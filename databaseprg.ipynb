{
 "cells": [
  {
   "cell_type": "code",
   "execution_count": 1,
   "id": "264069aa-cf97-450c-8944-2e57fbcd281f",
   "metadata": {},
   "outputs": [
    {
     "name": "stdout",
     "output_type": "stream",
     "text": [
      "Collecting sqlalchemy\n",
      "  Downloading SQLAlchemy-2.0.22-cp310-cp310-win_amd64.whl (2.1 MB)\n",
      "     ---------------------------------------- 2.1/2.1 MB 2.3 MB/s eta 0:00:00\n",
      "Requirement already satisfied: typing-extensions>=4.2.0 in c:\\users\\bhavya galphade\\appdata\\local\\programs\\python\\python310\\lib\\site-packages (from sqlalchemy) (4.7.1)\n",
      "Collecting greenlet!=0.4.17\n",
      "  Downloading greenlet-3.0.0-cp310-cp310-win_amd64.whl (287 kB)\n",
      "     -------------------------------------- 287.7/287.7 kB 3.0 MB/s eta 0:00:00\n",
      "Installing collected packages: greenlet, sqlalchemy\n",
      "Successfully installed greenlet-3.0.0 sqlalchemy-2.0.22\n",
      "Note: you may need to restart the kernel to use updated packages.\n"
     ]
    },
    {
     "name": "stderr",
     "output_type": "stream",
     "text": [
      "\n",
      "[notice] A new release of pip available: 22.2.2 -> 23.2.1\n",
      "[notice] To update, run: python.exe -m pip install --upgrade pip\n"
     ]
    }
   ],
   "source": [
    "pip install sqlalchemy"
   ]
  },
  {
   "cell_type": "code",
   "execution_count": 2,
   "id": "7e51adf8-a907-412b-9458-7440e6f418ac",
   "metadata": {},
   "outputs": [
    {
     "name": "stdout",
     "output_type": "stream",
     "text": [
      "Collecting pymysql\n",
      "  Downloading PyMySQL-1.1.0-py3-none-any.whl (44 kB)\n",
      "     -------------------------------------- 44.8/44.8 kB 276.2 kB/s eta 0:00:00\n",
      "Installing collected packages: pymysql\n",
      "Successfully installed pymysql-1.1.0\n",
      "Note: you may need to restart the kernel to use updated packages.\n"
     ]
    },
    {
     "name": "stderr",
     "output_type": "stream",
     "text": [
      "\n",
      "[notice] A new release of pip available: 22.2.2 -> 23.2.1\n",
      "[notice] To update, run: python.exe -m pip install --upgrade pip\n"
     ]
    }
   ],
   "source": [
    "pip install pymysql"
   ]
  },
  {
   "cell_type": "code",
   "execution_count": 15,
   "id": "49b44927-17e5-4a44-828e-305f90a6f648",
   "metadata": {},
   "outputs": [],
   "source": [
    "import sqlalchemy\n",
    "import pandas as pd"
   ]
  },
  {
   "cell_type": "code",
   "execution_count": null,
   "id": "63583154-ddcf-4b75-9819-fcee58689882",
   "metadata": {},
   "outputs": [],
   "source": []
  },
  {
   "cell_type": "code",
   "execution_count": 18,
   "id": "cdccc037-4041-42a6-948d-e45087dacfb0",
   "metadata": {},
   "outputs": [],
   "source": [
    "mycon = sqlalchemy.create_engine(\"mysql+pymysql://root@localhost:3306/stddb\")"
   ]
  },
  {
   "cell_type": "code",
   "execution_count": null,
   "id": "85847e97-67d1-4dbe-be70-974fc4dc2a14",
   "metadata": {},
   "outputs": [],
   "source": []
  },
  {
   "cell_type": "code",
   "execution_count": null,
   "id": "cc2d090b-a6ae-444e-ab8b-8eac17f2b58a",
   "metadata": {},
   "outputs": [],
   "source": []
  },
  {
   "cell_type": "code",
   "execution_count": null,
   "id": "53fa77d0-c7d4-448b-868f-f4bf505ac658",
   "metadata": {},
   "outputs": [],
   "source": []
  },
  {
   "cell_type": "code",
   "execution_count": null,
   "id": "48942147-3d7f-4d23-87c1-28aa9440ceed",
   "metadata": {},
   "outputs": [],
   "source": []
  },
  {
   "cell_type": "code",
   "execution_count": 5,
   "id": "eb747732-b530-42bf-904d-31ac1aa83c84",
   "metadata": {},
   "outputs": [
    {
     "data": {
      "text/html": [
       "<div>\n",
       "<style scoped>\n",
       "    .dataframe tbody tr th:only-of-type {\n",
       "        vertical-align: middle;\n",
       "    }\n",
       "\n",
       "    .dataframe tbody tr th {\n",
       "        vertical-align: top;\n",
       "    }\n",
       "\n",
       "    .dataframe thead th {\n",
       "        text-align: right;\n",
       "    }\n",
       "</style>\n",
       "<table border=\"1\" class=\"dataframe\">\n",
       "  <thead>\n",
       "    <tr style=\"text-align: right;\">\n",
       "      <th></th>\n",
       "      <th>sid</th>\n",
       "      <th>sna</th>\n",
       "      <th>sag</th>\n",
       "    </tr>\n",
       "  </thead>\n",
       "  <tbody>\n",
       "    <tr>\n",
       "      <th>0</th>\n",
       "      <td>1</td>\n",
       "      <td>Aman</td>\n",
       "      <td>20</td>\n",
       "    </tr>\n",
       "    <tr>\n",
       "      <th>1</th>\n",
       "      <td>2</td>\n",
       "      <td>AAYUSH</td>\n",
       "      <td>102</td>\n",
       "    </tr>\n",
       "    <tr>\n",
       "      <th>2</th>\n",
       "      <td>3</td>\n",
       "      <td>monitor</td>\n",
       "      <td>30</td>\n",
       "    </tr>\n",
       "    <tr>\n",
       "      <th>3</th>\n",
       "      <td>4</td>\n",
       "      <td>sahitya</td>\n",
       "      <td>40</td>\n",
       "    </tr>\n",
       "    <tr>\n",
       "      <th>4</th>\n",
       "      <td>6</td>\n",
       "      <td>aaryan</td>\n",
       "      <td>50</td>\n",
       "    </tr>\n",
       "    <tr>\n",
       "      <th>5</th>\n",
       "      <td>7</td>\n",
       "      <td>Het</td>\n",
       "      <td>80</td>\n",
       "    </tr>\n",
       "    <tr>\n",
       "      <th>6</th>\n",
       "      <td>8</td>\n",
       "      <td>Devang</td>\n",
       "      <td>55</td>\n",
       "    </tr>\n",
       "  </tbody>\n",
       "</table>\n",
       "</div>"
      ],
      "text/plain": [
       "   sid      sna  sag\n",
       "0    1     Aman   20\n",
       "1    2   AAYUSH  102\n",
       "2    3  monitor   30\n",
       "3    4  sahitya   40\n",
       "4    6   aaryan   50\n",
       "5    7      Het   80\n",
       "6    8   Devang   55"
      ]
     },
     "execution_count": 5,
     "metadata": {},
     "output_type": "execute_result"
    }
   ],
   "source": [
    "df = pd.read_sql_table(\"mytab\",mycon)\n",
    "df"
   ]
  },
  {
   "cell_type": "code",
   "execution_count": 7,
   "id": "51db00de-31ea-4171-9c79-55759afad7bd",
   "metadata": {},
   "outputs": [],
   "source": [
    "student = {\n",
    "    'first' : ['yash','manav','poojan','arpit','juzer','ishan','shubham','parth','naughty','kush'],\n",
    "    'last' : ['patel','shah','patel','shah','doshi','doshi','patel','patel','patel','patel'],\n",
    "    'email' : ['yash@gmail.com','manav@gmail.com','poojan@gmail.com','arpit@gmail.com','juzer@gmail.com','ishan@gmail.com','shubham@gmail.com','parth@gmail.com','kush@gmail.com','abhishek@gmail.com'],\n",
    "    'college' : ['changa','svit','changa','iti','svit','nirma','svit','changa','svit','changa'],\n",
    "    'per' : [90,80,70,20,46,82,67,94,58,91],\n",
    "    'grade' : ['aa','bb','cc','aa','aa','bb','dd','aa','cc','aa']\n",
    "}"
   ]
  },
  {
   "cell_type": "code",
   "execution_count": 8,
   "id": "b0bb7ad6-c5ad-4a28-823f-6d17f7186ec8",
   "metadata": {},
   "outputs": [],
   "source": [
    "df = pd.DataFrame(student)"
   ]
  },
  {
   "cell_type": "code",
   "execution_count": null,
   "id": "20699ec2-6be0-49cf-9056-8ed186acfaa2",
   "metadata": {},
   "outputs": [],
   "source": []
  },
  {
   "cell_type": "code",
   "execution_count": 9,
   "id": "f1874024-2e53-41f4-a440-07dc7452b012",
   "metadata": {},
   "outputs": [
    {
     "data": {
      "text/plain": [
       "10"
      ]
     },
     "execution_count": 9,
     "metadata": {},
     "output_type": "execute_result"
    }
   ],
   "source": [
    "df.to_sql(name = \"student\", con=mycon, index=False, if_exists=\"append\")"
   ]
  },
  {
   "cell_type": "code",
   "execution_count": 10,
   "id": "384861f3-db9b-4488-9669-e9d973422baa",
   "metadata": {},
   "outputs": [
    {
     "data": {
      "text/html": [
       "<div>\n",
       "<style scoped>\n",
       "    .dataframe tbody tr th:only-of-type {\n",
       "        vertical-align: middle;\n",
       "    }\n",
       "\n",
       "    .dataframe tbody tr th {\n",
       "        vertical-align: top;\n",
       "    }\n",
       "\n",
       "    .dataframe thead th {\n",
       "        text-align: right;\n",
       "    }\n",
       "</style>\n",
       "<table border=\"1\" class=\"dataframe\">\n",
       "  <thead>\n",
       "    <tr style=\"text-align: right;\">\n",
       "      <th></th>\n",
       "      <th>sid</th>\n",
       "      <th>sna</th>\n",
       "      <th>sag</th>\n",
       "    </tr>\n",
       "  </thead>\n",
       "  <tbody>\n",
       "    <tr>\n",
       "      <th>0</th>\n",
       "      <td>1</td>\n",
       "      <td>Aman</td>\n",
       "      <td>20</td>\n",
       "    </tr>\n",
       "    <tr>\n",
       "      <th>1</th>\n",
       "      <td>2</td>\n",
       "      <td>AAYUSH</td>\n",
       "      <td>102</td>\n",
       "    </tr>\n",
       "    <tr>\n",
       "      <th>2</th>\n",
       "      <td>3</td>\n",
       "      <td>monitor</td>\n",
       "      <td>30</td>\n",
       "    </tr>\n",
       "    <tr>\n",
       "      <th>3</th>\n",
       "      <td>4</td>\n",
       "      <td>sahitya</td>\n",
       "      <td>40</td>\n",
       "    </tr>\n",
       "    <tr>\n",
       "      <th>4</th>\n",
       "      <td>6</td>\n",
       "      <td>aaryan</td>\n",
       "      <td>50</td>\n",
       "    </tr>\n",
       "    <tr>\n",
       "      <th>5</th>\n",
       "      <td>7</td>\n",
       "      <td>Het</td>\n",
       "      <td>80</td>\n",
       "    </tr>\n",
       "    <tr>\n",
       "      <th>6</th>\n",
       "      <td>8</td>\n",
       "      <td>Devang</td>\n",
       "      <td>55</td>\n",
       "    </tr>\n",
       "  </tbody>\n",
       "</table>\n",
       "</div>"
      ],
      "text/plain": [
       "   sid      sna  sag\n",
       "0    1     Aman   20\n",
       "1    2   AAYUSH  102\n",
       "2    3  monitor   30\n",
       "3    4  sahitya   40\n",
       "4    6   aaryan   50\n",
       "5    7      Het   80\n",
       "6    8   Devang   55"
      ]
     },
     "execution_count": 10,
     "metadata": {},
     "output_type": "execute_result"
    }
   ],
   "source": [
    "df = pd.read_sql_table(\"mytab\",mycon)\n",
    "df"
   ]
  },
  {
   "cell_type": "code",
   "execution_count": 19,
   "id": "2a754bee-9665-4ca4-b7e3-9b5634068e32",
   "metadata": {},
   "outputs": [
    {
     "ename": "AttributeError",
     "evalue": "'Engine' object has no attribute 'execute'",
     "output_type": "error",
     "traceback": [
      "\u001b[1;31m---------------------------------------------------------------------------\u001b[0m",
      "\u001b[1;31mAttributeError\u001b[0m                            Traceback (most recent call last)",
      "Cell \u001b[1;32mIn[19], line 1\u001b[0m\n\u001b[1;32m----> 1\u001b[0m \u001b[43mmycon\u001b[49m\u001b[38;5;241;43m.\u001b[39;49m\u001b[43mexecute\u001b[49m(\u001b[38;5;124m\"\u001b[39m\u001b[38;5;124minsert into mytab values(8,\u001b[39m\u001b[38;5;124m'\u001b[39m\u001b[38;5;124mkeval\u001b[39m\u001b[38;5;124m'\u001b[39m\u001b[38;5;124m,70)\u001b[39m\u001b[38;5;124m\"\u001b[39m)\n",
      "\u001b[1;31mAttributeError\u001b[0m: 'Engine' object has no attribute 'execute'"
     ]
    }
   ],
   "source": [
    "mycon.execute(\"insert into mytab values(8,'keval',70)\")"
   ]
  },
  {
   "cell_type": "code",
   "execution_count": 20,
   "id": "806beaf0-0d62-4fd6-a4ab-1117390a9cbc",
   "metadata": {},
   "outputs": [
    {
     "name": "stdin",
     "output_type": "stream",
     "text": [
      "enter ID:  10\n",
      "Enter name:  janak\n",
      "Enter Age:  47\n"
     ]
    },
    {
     "ename": "AttributeError",
     "evalue": "'Engine' object has no attribute 'execute'",
     "output_type": "error",
     "traceback": [
      "\u001b[1;31m---------------------------------------------------------------------------\u001b[0m",
      "\u001b[1;31mAttributeError\u001b[0m                            Traceback (most recent call last)",
      "Cell \u001b[1;32mIn[20], line 6\u001b[0m\n\u001b[0;32m      4\u001b[0m q \u001b[38;5;241m=\u001b[39m \u001b[38;5;124m\"\u001b[39m\u001b[38;5;124minsert into mytab values(\u001b[39m\u001b[38;5;132;01m%s\u001b[39;00m\u001b[38;5;124m,\u001b[39m\u001b[38;5;132;01m%s\u001b[39;00m\u001b[38;5;124m,\u001b[39m\u001b[38;5;132;01m%s\u001b[39;00m\u001b[38;5;124m)\u001b[39m\u001b[38;5;124m\"\u001b[39m\n\u001b[0;32m      5\u001b[0m data \u001b[38;5;241m=\u001b[39m (\u001b[38;5;28mid\u001b[39m,na,ag)\n\u001b[1;32m----> 6\u001b[0m \u001b[43mmycon\u001b[49m\u001b[38;5;241;43m.\u001b[39;49m\u001b[43mexecute\u001b[49m(q,data)\n\u001b[0;32m      7\u001b[0m df \u001b[38;5;241m=\u001b[39m pd\u001b[38;5;241m.\u001b[39mread_sql_table(\u001b[38;5;124m\"\u001b[39m\u001b[38;5;124mmytab\u001b[39m\u001b[38;5;124m\"\u001b[39m,mycon)\n\u001b[0;32m      8\u001b[0m df\n",
      "\u001b[1;31mAttributeError\u001b[0m: 'Engine' object has no attribute 'execute'"
     ]
    }
   ],
   "source": [
    "id = int(input(\"enter ID: \"))\n",
    "na = input(\"Enter name: \")\n",
    "ag = int(input(\"Enter Age: \"))\n",
    "q = \"insert into mytab values(%s,%s,%s)\"\n",
    "data = (id,na,ag)\n",
    "mycon.execute(q,data)\n",
    "df = pd.read_sql_table(\"mytab\",mycon)\n",
    "df"
   ]
  },
  {
   "cell_type": "code",
   "execution_count": null,
   "id": "6ae89dd3-6371-4505-9b49-9de30b4e3694",
   "metadata": {},
   "outputs": [],
   "source": []
  },
  {
   "cell_type": "code",
   "execution_count": null,
   "id": "d10052d2-cfc5-4398-91c2-d38232cbd531",
   "metadata": {},
   "outputs": [],
   "source": []
  },
  {
   "cell_type": "code",
   "execution_count": null,
   "id": "45cbbf2a-c61e-4c7e-841b-78ccbb39e054",
   "metadata": {},
   "outputs": [],
   "source": []
  },
  {
   "cell_type": "code",
   "execution_count": null,
   "id": "c1252645-3b12-4ed8-8c24-842d2681b588",
   "metadata": {},
   "outputs": [],
   "source": []
  },
  {
   "cell_type": "code",
   "execution_count": null,
   "id": "8b1de5b9-a935-40c0-adc2-3675e2ebc64b",
   "metadata": {},
   "outputs": [],
   "source": []
  }
 ],
 "metadata": {
  "kernelspec": {
   "display_name": "Python 3 (ipykernel)",
   "language": "python",
   "name": "python3"
  },
  "language_info": {
   "codemirror_mode": {
    "name": "ipython",
    "version": 3
   },
   "file_extension": ".py",
   "mimetype": "text/x-python",
   "name": "python",
   "nbconvert_exporter": "python",
   "pygments_lexer": "ipython3",
   "version": "3.11.4"
  }
 },
 "nbformat": 4,
 "nbformat_minor": 5
}
