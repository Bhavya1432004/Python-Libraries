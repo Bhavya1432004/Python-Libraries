{
 "cells": [
  {
   "cell_type": "code",
   "execution_count": 1,
   "id": "45485d0f-bcfe-4403-af75-e29931b6dece",
   "metadata": {},
   "outputs": [],
   "source": [
    "import numpy as np"
   ]
  },
  {
   "cell_type": "code",
   "execution_count": 2,
   "id": "c89b99a7-bf81-4e02-ac99-3fc03f795272",
   "metadata": {},
   "outputs": [
    {
     "name": "stdout",
     "output_type": "stream",
     "text": [
      "[ 10.  20.  30.  40.  50.  60.  70.  80.  90. 100.]\n",
      "550.0\n"
     ]
    }
   ],
   "source": [
    "x=np.loadtxt(\"mynos.txt\")\n",
    "print(x)\n",
    "print(np.sum(x))"
   ]
  },
  {
   "cell_type": "code",
   "execution_count": 3,
   "id": "2bdf8a46-0710-4d42-9b9e-308046124425",
   "metadata": {},
   "outputs": [
    {
     "name": "stdout",
     "output_type": "stream",
     "text": [
      "[[ 10.  20.  30.  40.  50.]\n",
      " [  1.   2.   3.   4.   5.]\n",
      " [100. 200. 300. 400. 500.]]\n",
      "1665.0\n"
     ]
    }
   ],
   "source": [
    "no = np.loadtxt(\"multinos.txt\")\n",
    "print(no)\n",
    "print(np.sum(no))"
   ]
  },
  {
   "cell_type": "code",
   "execution_count": 4,
   "id": "bde47601-c7ba-421a-8012-4e46ea16ce0b",
   "metadata": {},
   "outputs": [
    {
     "name": "stdout",
     "output_type": "stream",
     "text": [
      "[10. nan 20. nan 30. 40. nan 60. nan 70. 80.]\n",
      "nan\n"
     ]
    }
   ],
   "source": [
    "x = np.genfromtxt(\"wordnos.txt\")\n",
    "print(x)\n",
    "print(np.sum(x))"
   ]
  },
  {
   "cell_type": "code",
   "execution_count": 5,
   "id": "8b5cbc08-0059-4918-b09e-ee7945fd1a82",
   "metadata": {},
   "outputs": [
    {
     "name": "stdout",
     "output_type": "stream",
     "text": [
      "[10.  0. 20.  0. 30. 40.  0. 60.  0. 70. 80.]\n",
      "310.0\n"
     ]
    }
   ],
   "source": [
    "x=np.genfromtxt(\"wordnos.txt\",filling_values=0)\n",
    "print(x)\n",
    "print(np.sum(x))"
   ]
  },
  {
   "cell_type": "code",
   "execution_count": 6,
   "id": "b5f08f94-3164-4e42-b985-1e582cbc0dee",
   "metadata": {},
   "outputs": [
    {
     "name": "stdout",
     "output_type": "stream",
     "text": [
      "[10. 10. 20. 10. 30. 40. 10. 60. 10. 70. 80.]\n",
      "350.0\n"
     ]
    }
   ],
   "source": [
    "x=np.genfromtxt(\"wordnos.txt\",filling_values=10)\n",
    "print(x)\n",
    "print(np.sum(x))"
   ]
  },
  {
   "cell_type": "code",
   "execution_count": 7,
   "id": "c43948af-1d21-4082-b39a-fb380257bb8d",
   "metadata": {},
   "outputs": [],
   "source": [
    "x=np.array([100,200,300,400,500,600,700,800,900,1000])\n",
    "np.savetxt(\"newnos.txt\",x)"
   ]
  },
  {
   "cell_type": "code",
   "execution_count": 8,
   "id": "491d4f22-6505-41cc-8681-37c21b2ffdb7",
   "metadata": {},
   "outputs": [
    {
     "name": "stdout",
     "output_type": "stream",
     "text": [
      "[ 100  200  300  400  500  600  700  800  900 1000]\n"
     ]
    }
   ],
   "source": [
    "z=np.loadtxt(\"newnos.txt\")\n",
    "print(x)"
   ]
  },
  {
   "cell_type": "code",
   "execution_count": null,
   "id": "4c8353d4-8d3d-4c9f-85bd-810bb870f1c8",
   "metadata": {},
   "outputs": [],
   "source": []
  }
 ],
 "metadata": {
  "kernelspec": {
   "display_name": "Python 3 (ipykernel)",
   "language": "python",
   "name": "python3"
  },
  "language_info": {
   "codemirror_mode": {
    "name": "ipython",
    "version": 3
   },
   "file_extension": ".py",
   "mimetype": "text/x-python",
   "name": "python",
   "nbconvert_exporter": "python",
   "pygments_lexer": "ipython3",
   "version": "3.11.4"
  }
 },
 "nbformat": 4,
 "nbformat_minor": 5
}
