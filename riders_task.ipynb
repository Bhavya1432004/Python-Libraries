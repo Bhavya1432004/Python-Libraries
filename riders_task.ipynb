{
 "cells": [
  {
   "cell_type": "code",
   "execution_count": 1,
   "id": "b2a23845-505e-45ea-bea6-ce1c3a76976d",
   "metadata": {},
   "outputs": [],
   "source": [
    "import numpy as  np"
   ]
  },
  {
   "cell_type": "code",
   "execution_count": null,
   "id": "1ef1428e-a054-4b16-9d03-1bcd2ca5fb73",
   "metadata": {},
   "outputs": [],
   "source": []
  },
  {
   "cell_type": "code",
   "execution_count": 2,
   "id": "28693114-892f-4f66-ae1e-2c61f94f8af9",
   "metadata": {},
   "outputs": [],
   "source": [
    "name = [\"Bhavya\",\"Monitor\",\"Sahitya\",\"aayush\",\"Keval\",\"Aaryan\",\"Khushi\"] #name of riders\n",
    "miles = [100,200,50,80,250,150,120] #miles covered by each riders\n",
    "hours = [2,5,2,3,2,4,3] #hours in miles covered"
   ]
  },
  {
   "cell_type": "code",
   "execution_count": 3,
   "id": "d8ea884f-6883-4985-808a-fd63c45f232a",
   "metadata": {},
   "outputs": [],
   "source": [
    "#speed of each rider\n",
    "# maximum speed out of all riders\n",
    "# minimum speed out of all riders\n",
    "# average speed of all riders\n",
    "# total miles covered by all riders\n",
    "# total hours taken by entire group\n",
    "# list riders who have more average than average speed of group\n",
    "# print name of riders having max and min speed"
   ]
  },
  {
   "cell_type": "code",
   "execution_count": null,
   "id": "d13b052b-463a-44aa-9b98-7ad1b2606606",
   "metadata": {},
   "outputs": [],
   "source": []
  }
 ],
 "metadata": {
  "kernelspec": {
   "display_name": "Python 3 (ipykernel)",
   "language": "python",
   "name": "python3"
  },
  "language_info": {
   "codemirror_mode": {
    "name": "ipython",
    "version": 3
   },
   "file_extension": ".py",
   "mimetype": "text/x-python",
   "name": "python",
   "nbconvert_exporter": "python",
   "pygments_lexer": "ipython3",
   "version": "3.10.7"
  }
 },
 "nbformat": 4,
 "nbformat_minor": 5
}
