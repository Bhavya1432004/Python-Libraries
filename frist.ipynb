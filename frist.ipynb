{
 "cells": [
  {
   "cell_type": "code",
   "execution_count": 1,
   "id": "c0f82b76-712c-445c-9c8c-000b637607cd",
   "metadata": {},
   "outputs": [],
   "source": [
    "import numpy as np"
   ]
  },
  {
   "cell_type": "code",
   "execution_count": null,
   "id": "cbac0a5d-4253-42bb-ab82-f2291517fd06",
   "metadata": {},
   "outputs": [],
   "source": []
  },
  {
   "cell_type": "code",
   "execution_count": 2,
   "id": "66a80bf6-de20-4d07-9cea-34073f9831b6",
   "metadata": {},
   "outputs": [],
   "source": [
    "a=np.array([100,65,52,80,25,76,43,34,98,87,76,65,54,43,32,76,73,57,63,40])"
   ]
  },
  {
   "cell_type": "code",
   "execution_count": 18,
   "id": "05ae2339-474c-4694-acba-44ced9d723e8",
   "metadata": {},
   "outputs": [
    {
     "name": "stdout",
     "output_type": "stream",
     "text": [
      "[100  80  76  98  87  76  76  73]\n"
     ]
    }
   ],
   "source": [
    "# create array for distinction students >=70\n",
    "dist= a[a>=70]\n",
    "print(dist)"
   ]
  },
  {
   "cell_type": "code",
   "execution_count": 19,
   "id": "9f2f43fb-1907-4474-99e6-444edbe20e9b",
   "metadata": {},
   "outputs": [
    {
     "name": "stdout",
     "output_type": "stream",
     "text": [
      "[]\n"
     ]
    }
   ],
   "source": [
    "# create array for failed student < 40\n",
    "fail = a[a<40]\n",
    "print(fail)"
   ]
  },
  {
   "cell_type": "code",
   "execution_count": null,
   "id": "2a24cc90-3a73-4a9c-9a17-8703e05dde3c",
   "metadata": {},
   "outputs": [],
   "source": []
  },
  {
   "cell_type": "code",
   "execution_count": 21,
   "id": "e7548d8a-c088-49ad-a62f-911230bfd7ca",
   "metadata": {},
   "outputs": [
    {
     "name": "stdout",
     "output_type": "stream",
     "text": [
      "[]\n"
     ]
    }
   ],
   "source": [
    "#create array for students having first class >=60 and <70\n",
    "first = a[(a>=60) & (a<70)]\n",
    "print(first)"
   ]
  },
  {
   "cell_type": "code",
   "execution_count": null,
   "id": "8df0652b-0d8c-4c13-b3a1-b10bb71e916f",
   "metadata": {},
   "outputs": [],
   "source": [
    "# create array for random 20 nos from 1 to 50 and replace all even nos with -1\n",
    "r=np.random.randint(1,50,20)\n",
    "print("
   ]
  },
  {
   "cell_type": "code",
   "execution_count": 4,
   "id": "b8d25168-5ee1-48cc-bf48-6ca0f07aa1f4",
   "metadata": {},
   "outputs": [],
   "source": [
    "# write a code to enter no. and find occuerence of enter no. by user.\n",
    "a=np.array([10,20,30,10,10,20,40,50,10,20,10,10,30,40,10,10])  "
   ]
  },
  {
   "cell_type": "code",
   "execution_count": null,
   "id": "f68b9eca-137a-40e2-bda2-313cb22d89a8",
   "metadata": {},
   "outputs": [],
   "source": []
  },
  {
   "cell_type": "code",
   "execution_count": 6,
   "id": "54ca3430-c99d-4591-b56a-470efcdc02a5",
   "metadata": {},
   "outputs": [
    {
     "name": "stdin",
     "output_type": "stream",
     "text": [
      " enter no :  10\n"
     ]
    },
    {
     "name": "stdout",
     "output_type": "stream",
     "text": [
      "8\n"
     ]
    }
   ],
   "source": [
    "n=int(input(\" enter no : \"))\n",
    "c=np.count_nonzero(a==n)\n",
    "print(c)"
   ]
  },
  {
   "cell_type": "code",
   "execution_count": null,
   "id": "7e08a787-195b-4550-a6bb-954b6f782f4c",
   "metadata": {},
   "outputs": [],
   "source": []
  },
  {
   "cell_type": "code",
   "execution_count": null,
   "id": "8a9b8761-3bd8-4c50-864c-70a70dbac15d",
   "metadata": {},
   "outputs": [],
   "source": []
  },
  {
   "cell_type": "code",
   "execution_count": null,
   "id": "e44f9519-88a7-454a-a5b3-ede57a892a4f",
   "metadata": {},
   "outputs": [],
   "source": []
  },
  {
   "cell_type": "code",
   "execution_count": null,
   "id": "359bf34a-c5ce-4927-9034-244d69231eae",
   "metadata": {},
   "outputs": [],
   "source": []
  },
  {
   "cell_type": "code",
   "execution_count": null,
   "id": "70990500-2d89-4f7c-83a7-6966669e853d",
   "metadata": {},
   "outputs": [],
   "source": []
  }
 ],
 "metadata": {
  "kernelspec": {
   "display_name": "Python 3 (ipykernel)",
   "language": "python",
   "name": "python3"
  },
  "language_info": {
   "codemirror_mode": {
    "name": "ipython",
    "version": 3
   },
   "file_extension": ".py",
   "mimetype": "text/x-python",
   "name": "python",
   "nbconvert_exporter": "python",
   "pygments_lexer": "ipython3",
   "version": "3.11.4"
  }
 },
 "nbformat": 4,
 "nbformat_minor": 5
}
